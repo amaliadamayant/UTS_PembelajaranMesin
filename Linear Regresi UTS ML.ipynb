{
 "cells": [
  {
   "cell_type": "markdown",
   "id": "b153baf0",
   "metadata": {},
   "source": [
    "# Pengumpulan data"
   ]
  },
  {
   "cell_type": "code",
   "execution_count": 1,
   "id": "aa354f70",
   "metadata": {},
   "outputs": [
    {
     "data": {
      "text/html": [
       "<div>\n",
       "<style scoped>\n",
       "    .dataframe tbody tr th:only-of-type {\n",
       "        vertical-align: middle;\n",
       "    }\n",
       "\n",
       "    .dataframe tbody tr th {\n",
       "        vertical-align: top;\n",
       "    }\n",
       "\n",
       "    .dataframe thead th {\n",
       "        text-align: right;\n",
       "    }\n",
       "</style>\n",
       "<table border=\"1\" class=\"dataframe\">\n",
       "  <thead>\n",
       "    <tr style=\"text-align: right;\">\n",
       "      <th></th>\n",
       "      <th>Daily Exercise Time (X)</th>\n",
       "      <th>Weight Loss (Y)</th>\n",
       "    </tr>\n",
       "  </thead>\n",
       "  <tbody>\n",
       "    <tr>\n",
       "      <th>0</th>\n",
       "      <td>0.5</td>\n",
       "      <td>0.2</td>\n",
       "    </tr>\n",
       "    <tr>\n",
       "      <th>1</th>\n",
       "      <td>1.0</td>\n",
       "      <td>0.4</td>\n",
       "    </tr>\n",
       "    <tr>\n",
       "      <th>2</th>\n",
       "      <td>1.5</td>\n",
       "      <td>0.7</td>\n",
       "    </tr>\n",
       "    <tr>\n",
       "      <th>3</th>\n",
       "      <td>2.0</td>\n",
       "      <td>1.0</td>\n",
       "    </tr>\n",
       "    <tr>\n",
       "      <th>4</th>\n",
       "      <td>1.0</td>\n",
       "      <td>0.3</td>\n",
       "    </tr>\n",
       "    <tr>\n",
       "      <th>...</th>\n",
       "      <td>...</td>\n",
       "      <td>...</td>\n",
       "    </tr>\n",
       "    <tr>\n",
       "      <th>69</th>\n",
       "      <td>3.6</td>\n",
       "      <td>1.8</td>\n",
       "    </tr>\n",
       "    <tr>\n",
       "      <th>70</th>\n",
       "      <td>1.8</td>\n",
       "      <td>0.7</td>\n",
       "    </tr>\n",
       "    <tr>\n",
       "      <th>71</th>\n",
       "      <td>1.9</td>\n",
       "      <td>0.8</td>\n",
       "    </tr>\n",
       "    <tr>\n",
       "      <th>72</th>\n",
       "      <td>3.4</td>\n",
       "      <td>1.7</td>\n",
       "    </tr>\n",
       "    <tr>\n",
       "      <th>73</th>\n",
       "      <td>1.0</td>\n",
       "      <td>0.4</td>\n",
       "    </tr>\n",
       "  </tbody>\n",
       "</table>\n",
       "<p>74 rows × 2 columns</p>\n",
       "</div>"
      ],
      "text/plain": [
       "    Daily Exercise Time (X)  Weight Loss (Y)\n",
       "0                       0.5              0.2\n",
       "1                       1.0              0.4\n",
       "2                       1.5              0.7\n",
       "3                       2.0              1.0\n",
       "4                       1.0              0.3\n",
       "..                      ...              ...\n",
       "69                      3.6              1.8\n",
       "70                      1.8              0.7\n",
       "71                      1.9              0.8\n",
       "72                      3.4              1.7\n",
       "73                      1.0              0.4\n",
       "\n",
       "[74 rows x 2 columns]"
      ]
     },
     "execution_count": 1,
     "metadata": {},
     "output_type": "execute_result"
    }
   ],
   "source": [
    "import pandas as pd\n",
    "\n",
    "data = pd.read_csv('R03_excercises.csv')\n",
    "data"
   ]
  },
  {
   "cell_type": "markdown",
   "id": "b4ae299e",
   "metadata": {},
   "source": [
    "# Preprocessing data"
   ]
  },
  {
   "cell_type": "code",
   "execution_count": 2,
   "id": "ee63eb8a",
   "metadata": {},
   "outputs": [],
   "source": [
    "from sklearn.model_selection import train_test_split\n",
    "\n",
    "X = data['Daily Exercise Time (X)'].values.reshape(-1,1)\n",
    "Y = data['Weight Loss (Y)'].values\n",
    "\n",
    "x_train, x_test, y_train, y_test = train_test_split(X, Y, test_size=.2)"
   ]
  },
  {
   "cell_type": "markdown",
   "id": "8dd765a6",
   "metadata": {},
   "source": [
    "# Pembentukan Model"
   ]
  },
  {
   "cell_type": "code",
   "execution_count": 3,
   "id": "d221a3b5",
   "metadata": {},
   "outputs": [
    {
     "data": {
      "text/plain": [
       "LinearRegression()"
      ]
     },
     "execution_count": 3,
     "metadata": {},
     "output_type": "execute_result"
    }
   ],
   "source": [
    "from sklearn.linear_model import LinearRegression\n",
    "\n",
    "model = LinearRegression()\n",
    "model.fit(x_train, y_train)"
   ]
  },
  {
   "cell_type": "markdown",
   "id": "72391cdb",
   "metadata": {},
   "source": [
    "# Analisis Akurasi model"
   ]
  },
  {
   "cell_type": "code",
   "execution_count": 4,
   "id": "b2584b8c",
   "metadata": {},
   "outputs": [
    {
     "name": "stdout",
     "output_type": "stream",
     "text": [
      "Akurasi Regresi: 0.9817255224445447\n"
     ]
    }
   ],
   "source": [
    "print(f'Akurasi Regresi: {model.score(x_train, y_train)}')"
   ]
  },
  {
   "cell_type": "markdown",
   "id": "7af126e0",
   "metadata": {},
   "source": [
    "# Pengujian Model"
   ]
  },
  {
   "cell_type": "code",
   "execution_count": 5,
   "id": "1f410291",
   "metadata": {},
   "outputs": [
    {
     "data": {
      "text/plain": [
       "array([0.38402726, 0.93376523, 1.4835032 , 1.04371283, 1.538477  ,\n",
       "       1.04371283, 1.75837218, 0.21910587, 1.4285294 , 0.82381764,\n",
       "       0.38402726, 0.98873903, 0.38402726, 1.70339839, 0.43900106])"
      ]
     },
     "execution_count": 5,
     "metadata": {},
     "output_type": "execute_result"
    }
   ],
   "source": [
    "predik = model.predict(x_test)\n",
    "predik"
   ]
  },
  {
   "cell_type": "markdown",
   "id": "eaced5ce",
   "metadata": {},
   "source": [
    "# Visualisasi model"
   ]
  },
  {
   "cell_type": "code",
   "execution_count": 6,
   "id": "a03d2675",
   "metadata": {},
   "outputs": [
    {
     "data": {
      "image/png": "[encoded data removed]",
      "text/plain": [
       "<Figure size 640x480 with 1 Axes>"
      ]
     },
     "metadata": {},
     "output_type": "display_data"
    }
   ],
   "source": [
    "import matplotlib.pyplot as plt\n",
    "\n",
    "plt.scatter(x_test, y_test, c='blue')\n",
    "plt.plot(x_test, predik, c='red')\n",
    "plt.xlabel('Data X')\n",
    "plt.ylabel('Data Y')\n",
    "plt.show()"
   ]
  },
  {
   "cell_type": "code",
   "execution_count": null,
   "id": "ca8ec034",
   "metadata": {},
   "outputs": [],
   "source": []
  }
 ],
 "metadata": {
  "kernelspec": {
   "display_name": "Python 3 (ipykernel)",
   "language": "python",
   "name": "python3"
  },
  "language_info": {
   "codemirror_mode": {
    "name": "ipython",
    "version": 3
   },
   "file_extension": ".py",
   "mimetype": "text/x-python",
   "name": "python",
   "nbconvert_exporter": "python",
   "pygments_lexer": "ipython3",
   "version": "3.9.13"
  }
 },
 "nbformat": 4,
 "nbformat_minor": 5
}
